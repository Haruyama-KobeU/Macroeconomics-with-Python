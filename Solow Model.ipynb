{
 "cells": [
  {
   "cell_type": "markdown",
   "metadata": {},
   "source": [
    "#### [**Nicolas Cachanosky**](http://www.ncachanosky.com) | Department of Economics | Metropolitan State University of Denver | ncachano@msudenver.edu"
   ]
  },
  {
   "cell_type": "markdown",
   "metadata": {},
   "source": [
    "# SOLOW MODEL"
   ]
  },
  {
   "cell_type": "markdown",
   "metadata": {},
   "source": [
    "These notes illustrate how to use code the Solow Model in Python. The purpose of the note is to walk through Python applications, not to offer a detailed discussion of the Solow Model. The note also assumes familiarity with economic concepts and a beginner experience with Python.\n",
    "\n",
    "For a more complete and detailed discussion of Pythong applications see the material in [Quant Econ](https://quantecon.org/).\n"
   ]
  },
  {
   "cell_type": "markdown",
   "metadata": {},
   "source": [
    "## CONTENT\n",
    "1. The production function\n",
    "2. Evolution of inputs"
   ]
  },
  {
   "cell_type": "markdown",
   "metadata": {},
   "source": [
    "## 1. THE PRODUCTION FUNCTION"
   ]
  },
  {
   "cell_type": "markdown",
   "metadata": {},
   "source": [
    "A neoclassical production function, $f(x_{i})$ where each $x_{i} \\geq 0$, satisfies the Inada conditions: \n",
    "\n",
    "1. The production function has diminishing marginal returns: $\\partial f(x)/\\partial x > 0$ and $\\partial^2/\\partial x^2 <0$\n",
    "2. If there is no input, there is no production: $f\\left(x=0\\right)=0$\n",
    "3. As the value of the input approaches to zero, the first derivative approaches to infinity: $\\lim\\limits_{x \\to 0^+} \\partial f(x)/\\partial x = +\\infty $\n",
    "4. As the value of the input approaches to infinity, the first derivative approaches to zero: $\\lim\\limits_{x \\to +\\infty} \\partial f(x)/\\partial x = 0^+$\n",
    "\n",
    "Assume a Cobb-Douglas production function in discrete time $(t)$ with Hicks-neutral techonology $(A)$, and with constant returns to scale where $\\alpha \\in (0, 1)$ is the output elasticity of capital. \n",
    "\n",
    "\\begin{equation}\n",
    "    Y_{t}\\left(K_{t}, N_{t}\\right) = A_{t} \\cdot F\\left(K_{t}, N_{t}\\right) =  A_{t} \\cdot \\left(K_{t} ^{\\alpha} N_{t}^{1-\\alpha}\\right)\n",
    "\\end{equation}\n",
    "\n",
    "The first and second derivatives are:\n",
    "\n",
    "\\begin{equation*}\n",
    "    \\frac{\\partial   Y_{t}}{\\partial K}   = \\alpha \\cdot A\\left(\\frac{N_{t}}{K_{t}}\\right)^{1-\\alpha} \n",
    "  = \\alpha \\cdot \\frac{Y_{t}}{K_{t}} > 0 \\; \\text{and} \\;\n",
    "    \\frac{\\partial^2 Y_{t}}{\\partial K^2} = -\\alpha (1-\\alpha) \\cdot A\\left(\\frac{N_{t}}{K_{t}}\\right)^{1-\\alpha} < 0\n",
    "    \\\\\n",
    "    \\frac{\\partial   Y_{t}}{\\partial N}   = (1-\\alpha) \\cdot A\\left(\\frac{K_{t}}{N_{t}}\\right)^{\\alpha} \n",
    "  = (1-\\alpha) \\cdot \\frac{Y_{t}}{N_{t}} > 0 \\; \\text{and} \\;\n",
    "    \\frac{\\partial^2 Y_{t}}{\\partial N^2} = -\\alpha (1-\\alpha) \\cdot A\\left(\\frac{K_{t}}{N_{t}}\\right)^{1-\\alpha} < 0\n",
    "\\end{equation*}\n",
    "\n",
    "Python can also calculate the derivatives. For this, Python needs two packages, 'numpy' and \"sympy'. In addition, the result of the derivatino can be printed in LaTeX format. The example below calculates the first partial derivative of the output function with respect to capital."
   ]
  },
  {
   "cell_type": "code",
   "execution_count": 33,
   "metadata": {},
   "outputs": [
    {
     "name": "stdout",
     "output_type": "stream",
     "text": [
      "A*K**alpha*N**(-alpha + 1)*alpha/K\n"
     ]
    },
    {
     "data": {
      "text/plain": [
       "'\\\\frac{A \\\\alpha}{K} K^{\\\\alpha} N^{- \\\\alpha + 1}'"
      ]
     },
     "execution_count": 33,
     "metadata": {},
     "output_type": "execute_result"
    }
   ],
   "source": [
    "\"IMPORT PACKAGES\"\n",
    "import numpy as np\n",
    "from sympy import Symbol\n",
    "from sympy import latex\n",
    "\n",
    "\"TELL PYTHON TO TREAT VARIABLES AS 'MATH' SYMBOLS\"\n",
    "A, K, N, alpha = Symbol('A'), Symbol('K'), Symbol('N'), Symbol('alpha')  # Treat 'A', 'K', 'N', and 'alpha' as variables\n",
    "Y = A * (K)**(alpha) * (N)**(1-alpha)                                    # Production function\n",
    "\n",
    "\"CALCULATE THE DERIVATIVE AND PRINT THE RESULT\"\n",
    "Yprime = Y.diff(K)   # Calculate the partial derivative with respect to K\n",
    "print(Yprime)        # Print dY/dK\n",
    "latex(Yprime)        # Print dY/dK in LaTeX format"
   ]
  },
  {
   "cell_type": "markdown",
   "metadata": {},
   "source": [
    "The following code plots the level of output for chnages in $K$. The first part of the code defines the parameter values and builds a user-defined (production) function. The second part of the code builds the graph. To be able to plot, Python needs the 'matplotlib' package.\n",
    "\n",
    "Remember that Python counts the first element of a vector V with a zero. The first element would be V[0].The code sets the line to be a solid blue line (\"b-\") with some transparency (alpha = 0.60)."
   ]
  },
  {
   "cell_type": "code",
   "execution_count": 74,
   "metadata": {},
   "outputs": [
    {
     "data": {
      "image/png": "[encoded data removed]",
      "text/plain": [
       "<Figure size 432x288 with 1 Axes>"
      ]
     },
     "metadata": {},
     "output_type": "display_data"
    }
   ],
   "source": [
    "\"IMPORT PACKAGES\"\n",
    "import numpy as np\n",
    "import matplotlib.pyplot as plt\n",
    "import ipywidgets\n",
    "\n",
    "\"DEFINE PARAMETERS AND ARRAYS\"\n",
    "K_size = 100          # Model domain\n",
    "A = 1                 # Total Factor Productivity\n",
    "N = K_size/2          # Capital stock\n",
    "alpha = 0.50          # Output elasticity of capital\n",
    "K = np.arange(K_size) # Create empty vector of K\n",
    "Y = np.empty(K_size)  # Create empty vector of Y\n",
    "\n",
    "Y2 = np.empty(K_size)\n",
    "Y3 = np.empty(K_size)\n",
    "Y4 = np.empty(K_size)\n",
    "Y5 = np.empty(K_size)\n",
    "Y6 = np.empty(K_size)\n",
    "\n",
    "def output(K, A):                # User-defined Cobb-Douglas Production Function\n",
    "    Y = A * (K)**(alpha) * (N)**(1-alpha)    \n",
    "    return Y\n",
    "\n",
    "for i in range(0, K_size):  # Calculate output for each value of K in its domain\n",
    "    TFP   = A\n",
    "    Y[i]  = output(i, A)  \n",
    "    Y2[i] = output(i, TFP+1)\n",
    "    Y3[i] = output(i, TFP+2)\n",
    "    Y4[i] = output(i, TFP+3)\n",
    "    Y5[i] = output(i, TFP+4)\n",
    "    Y6[i] = output(i, TFP+5)\n",
    "    \n",
    "Ymax = np.max(Y6)\n",
    "\n",
    "\"PLOT THE PRODUCTION FUNCTION FOR DIFFERENT VALUES OF TECHNOLOGY\"\n",
    "plot_label = '$Y=A \\cdot K^{\\\\alpha}N^{1-\\\\alpha}$'\n",
    "v = [0, K_size, 0, Ymax]                                  # Set the range of the horizontal and vertical axes\n",
    "fig, ax = plt.subplots()\n",
    "ax.set_title(\"Output\")\n",
    "ax.grid()\n",
    "ax.plot(K, Y,  \"b-\", alpha=1.00, label=\"A=1\")\n",
    "ax.plot(K, Y2, \"b-\", alpha=0.85,  label=\"A=2\")\n",
    "ax.plot(K, Y3, \"b-\", alpha=0.70, label=\"A=3\")\n",
    "ax.plot(K, Y4, \"b-\", alpha=0.55, label=\"A=4\")\n",
    "ax.plot(K, Y5, \"b-\", alpha=0.40, label=\"A=5\")\n",
    "ax.plot(K, Y6, \"b-\", alpha=0.25, label=\"A=6\")\n",
    "ax.legend() \n",
    "plt.axis(v)\n",
    "plt.show()\n",
    "\n",
    "\n",
    "#plt.subplots_adjust(hspace=0)\n",
    "#ax1 = fig.add_subplot(2, 1, 1) # Output\n",
    "#ax1.plot(N, Y, \"k  \", ls = '-' , label=\"Output\")\n",
    "#ax1.set(xlabel=\"Units of Labor (N)\", ylabel=\"Output\")\n",
    "#plt.axvline(x = Nstar, ymin = 0, ymax = 1, ls = \":\", color = 'k')\n",
    "#plt.axhline(y = Ystar, xmin = 0, xmax = 1, ls = \":\", color = 'k')\n",
    "#plt.axis(v)\n",
    "\n"
   ]
  },
  {
   "cell_type": "markdown",
   "metadata": {},
   "source": [
    "\n",
    "Since the production function has constant returns to scale, we can express $Y$ in *per* effective unit of labor.\n",
    "\n",
    "\\begin{align}\n",
    "  y_{t} &= \\frac{Y_{t}}{A_{t}N_{t}}                                                                                          \\\\\n",
    "  y_{t} &= \\frac{A_{t} \\cdot \\left(K_{t}^{\\alpha}N_{t}^{(1-\\alpha)} \\right)}{A_{t}N_{t}}                                     \\\\\n",
    "  y_{t} &= \\frac{A_{t}}{A_{t}} \\cdot \\left(\\frac{K_{t}}{N{t}}\\right)^{\\alpha} \\left(\\frac{N_{t}}{N_{t}}\\right)^{(1-\\alpha)}  \\\\\n",
    "  y_{t} &= k_{t}^{\\alpha}                                                                                                    \\\\\n",
    "  y_{t} &=f( k_{t} )                                                                                                         \\\\\n",
    "\\end{align}\n",
    "\n"
   ]
  },
  {
   "cell_type": "code",
   "execution_count": null,
   "metadata": {},
   "outputs": [],
   "source": []
  }
 ],
 "metadata": {
  "kernelspec": {
   "display_name": "Python 3",
   "language": "python",
   "name": "python3"
  },
  "language_info": {
   "codemirror_mode": {
    "name": "ipython",
    "version": 3
   },
   "file_extension": ".py",
   "mimetype": "text/x-python",
   "name": "python",
   "nbconvert_exporter": "python",
   "pygments_lexer": "ipython3",
   "version": "3.6.5"
  }
 },
 "nbformat": 4,
 "nbformat_minor": 2
}
