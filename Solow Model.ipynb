{
 "cells": [
  {
   "cell_type": "markdown",
   "metadata": {},
   "source": [
    "#### [**Nicolas Cachanosky**](http://www.ncachanosky.com) | Department of Economics | Metropolitan State University of Denver | ncachano@msudenver.edu"
   ]
  },
  {
   "cell_type": "markdown",
   "metadata": {},
   "source": [
    "# Solow Model"
   ]
  },
  {
   "cell_type": "markdown",
   "metadata": {},
   "source": [
    "These notes illustrate how to use code the Solow Model in Python. The purpose of the note is to walk through Python applications, not to offer a detailed discussion of the Solow Model. The note also assumes familiarity with economic concepts and a beginner experience with Python.\n",
    "\n",
    "For a more complete and detailed discussion of Pythong applications see the material in [Quant Econ](https://quantecon.org/).\n"
   ]
  },
  {
   "cell_type": "markdown",
   "metadata": {},
   "source": [
    "## Content\n",
    "1. The production function\n",
    "2. Evolution of inputs"
   ]
  },
  {
   "cell_type": "markdown",
   "metadata": {},
   "source": [
    "## 1. The production function"
   ]
  },
  {
   "cell_type": "markdown",
   "metadata": {},
   "source": [
    "A neoclassical production function, $f(x_{i})$ where each $x_{i} \\geq 0$, satisfies the Inada conditions: \n",
    "\n",
    "1. The production function has diminishing marginal returns: $\\partial f(x)/\\partial x > 0$ and $\\partial^2/\\partial x^2 <0$\n",
    "2. If there is no input, there is no production: $f\\left(x=0\\right)=0$\n",
    "3. As the value of the input approaches to zero, the first derivative approaches to infinity: $\\lim\\limits_{x \\to 0^+} \\partial f(x)/\\partial x = +\\infty $\n",
    "4. As the value of the input approaches to infinity, the first derivative approaches to zero: $\\lim\\limits_{x \\to +\\infty} \\partial f(x)/\\partial x = 0^+$\n",
    "\n",
    "Assume a Cobb-Douglas production function in discrete time $(t)$ with Hicks-neutral techonology $(A)$, and with constant returns to scale where $\\alpha \\in (0, 1)$ is the output elasticity of capital. \n",
    "\n",
    "\\begin{equation}\n",
    "    Y_{t}(K_{t}, N_{t}) = A_{t} \\cdot \\left(K_{t} ^{\\alpha} N_{t}^{1-\\alpha}\\right)\n",
    "\\end{equation}\n",
    "\n",
    "The first and second derivatives are:\n",
    "\n",
    "\\begin{equation*}\n",
    "    \\frac{\\partial   Y_{t}}{\\partial K}   = \\alpha \\cdot A\\left(\\frac{N_{t}}{K_{t}}\\right)^{1-\\alpha} \n",
    "  = \\alpha \\cdot \\frac{Y_{t}}{K_{t}} > 0 \\; \\text{and} \\;\n",
    "    \\frac{\\partial^2 Y_{t}}{\\partial K^2} = -\\alpha (1-\\alpha) \\cdot A\\left(\\frac{N_{t}}{K_{t}}\\right)^{1-\\alpha} < 0\n",
    "    \\\\\n",
    "    \\frac{\\partial   Y_{t}}{\\partial N}   = (1-\\alpha) \\cdot A\\left(\\frac{K_{t}}{N_{t}}\\right)^{\\alpha} \n",
    "  = (1-\\alpha) \\cdot \\frac{Y_{t}}{N_{t}} > 0 \\; \\text{and} \\;\n",
    "    \\frac{\\partial^2 Y_{t}}{\\partial N^2} = -\\alpha (1-\\alpha) \\cdot A\\left(\\frac{K_{t}}{N_{t}}\\right)^{1-\\alpha} < 0\n",
    "\\end{equation*}\n",
    "\n",
    "Python can also calculate the derivatives. For this, Python needs two packages, 'numpy' and \"sympy'. In addition, the result of the derivatino can be printed in LaTeX format. The example below calculates the first partial derivative of the output function with respect to capital."
   ]
  },
  {
   "cell_type": "code",
   "execution_count": 29,
   "metadata": {},
   "outputs": [
    {
     "name": "stdout",
     "output_type": "stream",
     "text": [
      "A*K**alpha*N**(-alpha + 1)*alpha/K\n"
     ]
    },
    {
     "data": {
      "text/plain": [
       "'\\\\frac{A \\\\alpha}{K} K^{\\\\alpha} N^{- \\\\alpha + 1}'"
      ]
     },
     "execution_count": 29,
     "metadata": {},
     "output_type": "execute_result"
    }
   ],
   "source": [
    "import numpy as np\n",
    "from sympy import Symbol\n",
    "from sympy import latex\n",
    "\n",
    "A, K, N, alpha = Symbol('A'), Symbol('K'), Symbol('N'), Symbol('alpha')  # Treat 'A', 'K', 'N', and 'alpha' as variables\n",
    "Y = A * (K)**(alpha) * (N)**(1-alpha)    \n",
    "\n",
    "\n",
    "\n",
    "Yprime = Y.diff(K)\n",
    "print(Yprime)\n",
    "\n",
    "\n",
    "latex(Yprime)"
   ]
  },
  {
   "cell_type": "code",
   "execution_count": null,
   "metadata": {},
   "outputs": [],
   "source": []
  },
  {
   "cell_type": "code",
   "execution_count": null,
   "metadata": {},
   "outputs": [],
   "source": []
  }
 ],
 "metadata": {
  "kernelspec": {
   "display_name": "Python 3",
   "language": "python",
   "name": "python3"
  },
  "language_info": {
   "codemirror_mode": {
    "name": "ipython",
    "version": 3
   },
   "file_extension": ".py",
   "mimetype": "text/x-python",
   "name": "python",
   "nbconvert_exporter": "python",
   "pygments_lexer": "ipython3",
   "version": "3.6.5"
  }
 },
 "nbformat": 4,
 "nbformat_minor": 2
}
